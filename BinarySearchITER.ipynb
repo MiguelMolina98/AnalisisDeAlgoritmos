{
  "nbformat": 4,
  "nbformat_minor": 0,
  "metadata": {
    "colab": {
      "name": "BinarySearchITER.ipynb",
      "provenance": [],
      "authorship_tag": "ABX9TyOMD3Dzw173U8iAK5+LYOGy",
      "include_colab_link": true
    },
    "kernelspec": {
      "name": "python3",
      "display_name": "Python 3"
    }
  },
  "cells": [
    {
      "cell_type": "markdown",
      "metadata": {
        "id": "view-in-github",
        "colab_type": "text"
      },
      "source": [
        "<a href=\"https://colab.research.google.com/github/MiguelMolina98/AnalisisDeAlgoritmos/blob/main/BinarySearchITER.ipynb\" target=\"_parent\"><img src=\"https://colab.research.google.com/assets/colab-badge.svg\" alt=\"Open In Colab\"/></a>"
      ]
    },
    {
      "cell_type": "code",
      "metadata": {
        "id": "_qPlkN8vz1C5"
      },
      "source": [
        "def binary_search_iterative(array, element):\n",
        "    mid = 0\n",
        "    start = 0\n",
        "    end = len(array)\n",
        "    step = 0\n",
        "\n",
        "    while (start <= end):\n",
        "        print(\"Subarray in step {}: {}\".format(step, str(array[start:end+1])))\n",
        "        step = step+1\n",
        "        mid = (start + end) // 2\n",
        "\n",
        "        if element == array[mid]:\n",
        "            return mid\n",
        "\n",
        "        if element < array[mid]:\n",
        "            end = mid - 1\n",
        "        else:\n",
        "            start = mid + 1\n",
        "    return -1"
      ],
      "execution_count": 2,
      "outputs": []
    },
    {
      "cell_type": "code",
      "metadata": {
        "colab": {
          "base_uri": "https://localhost:8080/"
        },
        "id": "ev12CMlLz5r7",
        "outputId": "1b6de3f4-b5a6-4a3b-8958-72dc1545568b"
      },
      "source": [
        "element = 16\n",
        "array = [1, 2, 5, 7, 13, 15, 16, 18, 24, 28, 29]       \n",
        "\n",
        "print(\"Searching for {} in {}\".format(element, array))\n",
        "print(\"Index of {}: {}\".format(element, binary_search_iterative(array, element)))"
      ],
      "execution_count": 3,
      "outputs": [
        {
          "output_type": "stream",
          "text": [
            "Searching for 16 in [1, 2, 5, 7, 13, 15, 16, 18, 24, 28, 29]\n",
            "Subarray in step 0: [1, 2, 5, 7, 13, 15, 16, 18, 24, 28, 29]\n",
            "Subarray in step 1: [16, 18, 24, 28, 29]\n",
            "Subarray in step 2: [16, 18]\n",
            "Index of 16: 6\n"
          ],
          "name": "stdout"
        }
      ]
    }
  ]
}
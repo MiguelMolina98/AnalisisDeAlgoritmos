{
  "nbformat": 4,
  "nbformat_minor": 0,
  "metadata": {
    "colab": {
      "name": "InsertionSort.ipynb",
      "provenance": [],
      "authorship_tag": "ABX9TyMB6aj8woupe17svvQ6R+sL",
      "include_colab_link": true
    },
    "kernelspec": {
      "name": "python3",
      "display_name": "Python 3"
    }
  },
  "cells": [
    {
      "cell_type": "markdown",
      "metadata": {
        "id": "view-in-github",
        "colab_type": "text"
      },
      "source": [
        "<a href=\"https://colab.research.google.com/github/MiguelMolina98/AnalisisDeAlgoritmos/blob/main/InsertionSort.ipynb\" target=\"_parent\"><img src=\"https://colab.research.google.com/assets/colab-badge.svg\" alt=\"Open In Colab\"/></a>"
      ]
    },
    {
      "cell_type": "code",
      "metadata": {
        "colab": {
          "base_uri": "https://localhost:8080/"
        },
        "id": "ITMIbF0Ry9UK",
        "outputId": "e4494b07-83b0-46e1-facb-c3d4c34aac9d"
      },
      "source": [
        "def insertionSort(arr): \n",
        "  \n",
        "    for i in range(1, len(arr)):  \n",
        "  \n",
        "        key = arr[i] \n",
        "  \n",
        "        j = i-1\n",
        "        while j >=0 and key < arr[j] : \n",
        "                arr[j+1] = arr[j] \n",
        "                j -= 1\n",
        "        arr[j+1] = key \n",
        "   \n",
        "arr = [12, 11, 13, 5, 6,2,1,3,0] \n",
        "print ('Lista no ordenada:',end='') \n",
        "print(arr)\n",
        "insertionSort(arr) \n",
        "print ('Lista ordenada:',end='') \n",
        "print(arr)"
      ],
      "execution_count": 1,
      "outputs": [
        {
          "output_type": "stream",
          "text": [
            "Lista no ordenada:[12, 11, 13, 5, 6, 2, 1, 3, 0]\n",
            "Lista ordenada:[0, 1, 2, 3, 5, 6, 11, 12, 13]\n"
          ],
          "name": "stdout"
        }
      ]
    },
    {
      "cell_type": "code",
      "metadata": {
        "id": "emv5ALBkzArQ"
      },
      "source": [
        ""
      ],
      "execution_count": null,
      "outputs": []
    }
  ]
}
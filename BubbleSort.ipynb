{
  "nbformat": 4,
  "nbformat_minor": 0,
  "metadata": {
    "colab": {
      "name": "BubbleSort.ipynb",
      "provenance": [],
      "authorship_tag": "ABX9TyNr3ATP9ysfWk3jB4ahFVi5",
      "include_colab_link": true
    },
    "kernelspec": {
      "name": "python3",
      "display_name": "Python 3"
    }
  },
  "cells": [
    {
      "cell_type": "markdown",
      "metadata": {
        "id": "view-in-github",
        "colab_type": "text"
      },
      "source": [
        "<a href=\"https://colab.research.google.com/github/MiguelMolina98/AnalisisDeAlgoritmos/blob/main/BubbleSort.ipynb\" target=\"_parent\"><img src=\"https://colab.research.google.com/assets/colab-badge.svg\" alt=\"Open In Colab\"/></a>"
      ]
    },
    {
      "cell_type": "code",
      "metadata": {
        "id": "WuheDEXHxZsD"
      },
      "source": [
        "def bubbleSort(array): \n",
        "    n = len(array)-1 # +1 metodo len() + 1 resta de uno y +1 asignación a n  -> +3\n",
        "    \n",
        "    for i in range(n): # +1 asignacion a i=0 + 4(n) recuperar n,i, y comparaciones i<n,i=n -> 4n+1\n",
        "\n",
        "        for j in range(n-i): # +n asignación de j=0 + 6(n)(n/2) de recuperar i,j,n,resta n-i,y dos comparaciones j<n-i y j=n-i\n",
        "                             # -> 3(n^2) + n\n",
        "            if array[j] > array[j+1] :  # +5(n^2)/2 de recuperar j,array[j],suma j+1, array[j+1], comparacion < que -> 5/2(n^2) \n",
        "                temp = array[j] # + 3(n^2)/2 de recuperar j, array[j], y asignar a temp -> 3/2(n^2)\n",
        "                array[j]= array[j+1] # +4(n^2)/2 de recuperar j,suma j+1,array[j+1], y asignar a array[j] -> 2(n^2)\n",
        "                array[j+1]=temp # +4(n^2)/2 recuperar j,suma j+1, temp y asignar a array[j+1] -> 2(n^2)"
      ],
      "execution_count": 9,
      "outputs": []
    },
    {
      "cell_type": "code",
      "metadata": {
        "colab": {
          "base_uri": "https://localhost:8080/"
        },
        "id": "rktU4g1hxnIY",
        "outputId": "855dc174-2da2-42ad-9547-b7cd6dda4ada"
      },
      "source": [
        "array = [64, 34, 25, 12, 22, 11, 90,12,43,6,45,23,12,23,121,545,23,4,32,12,345,322,434,9,8,7,2,57,18,36,25]\n",
        "bubbleSort(array)\n",
        "print(array)"
      ],
      "execution_count": 10,
      "outputs": [
        {
          "output_type": "stream",
          "text": [
            "[2, 4, 6, 7, 8, 9, 11, 12, 12, 12, 12, 18, 22, 23, 23, 23, 25, 25, 32, 34, 36, 43, 45, 57, 64, 90, 121, 322, 345, 434, 545]\n"
          ],
          "name": "stdout"
        }
      ]
    }
  ]
}
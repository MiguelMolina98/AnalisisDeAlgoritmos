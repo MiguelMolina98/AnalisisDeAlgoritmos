{
  "nbformat": 4,
  "nbformat_minor": 0,
  "metadata": {
    "colab": {
      "name": "SelectSort.ipynb",
      "provenance": [],
      "authorship_tag": "ABX9TyPTMGZeC9Lr9dWbed6Kwcc6",
      "include_colab_link": true
    },
    "kernelspec": {
      "name": "python3",
      "display_name": "Python 3"
    }
  },
  "cells": [
    {
      "cell_type": "markdown",
      "metadata": {
        "id": "view-in-github",
        "colab_type": "text"
      },
      "source": [
        "<a href=\"https://colab.research.google.com/github/MiguelMolina98/AnalisisDeAlgoritmos/blob/main/SelectSort.ipynb\" target=\"_parent\"><img src=\"https://colab.research.google.com/assets/colab-badge.svg\" alt=\"Open In Colab\"/></a>"
      ]
    },
    {
      "cell_type": "code",
      "metadata": {
        "id": "ZHcJXLykyP1i"
      },
      "source": [
        "def selectSort(aList):\n",
        "    for i in range(len(aList)):\n",
        "        least = i\n",
        "        for k in range(i+1, len(aList)):\n",
        "            if aList[k] < aList[least]:\n",
        "                least = k\n",
        "                 \n",
        "        swap(aList, least, i)\n",
        "         \n",
        "def swap(A, x, y):\n",
        "    temp = A[x]\n",
        "    A[x] = A[y]\n",
        "    A[y] = temp"
      ],
      "execution_count": 1,
      "outputs": []
    },
    {
      "cell_type": "code",
      "metadata": {
        "colab": {
          "base_uri": "https://localhost:8080/"
        },
        "id": "G8kV3AjtyY0n",
        "outputId": "25fe1eb4-5f12-4fc1-c3cb-967789c0368a"
      },
      "source": [
        "List = [5.76,4.7,25.3,4.6,32.4,55.3,52.3,7.6,7.3,86.7,43.5]\n",
        "selectSort(List)\n",
        "print(List)"
      ],
      "execution_count": 2,
      "outputs": [
        {
          "output_type": "stream",
          "text": [
            "[4.6, 4.7, 5.76, 7.3, 7.6, 25.3, 32.4, 43.5, 52.3, 55.3, 86.7]\n"
          ],
          "name": "stdout"
        }
      ]
    }
  ]
}
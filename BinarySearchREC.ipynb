{
  "nbformat": 4,
  "nbformat_minor": 0,
  "metadata": {
    "colab": {
      "name": "BinarySearchREC.ipynb",
      "provenance": [],
      "authorship_tag": "ABX9TyPASMPF3GVsck3nIz3fZVN+",
      "include_colab_link": true
    },
    "kernelspec": {
      "name": "python3",
      "display_name": "Python 3"
    }
  },
  "cells": [
    {
      "cell_type": "markdown",
      "metadata": {
        "id": "view-in-github",
        "colab_type": "text"
      },
      "source": [
        "<a href=\"https://colab.research.google.com/github/MiguelMolina98/AnalisisDeAlgoritmos/blob/main/BinarySearchREC.ipynb\" target=\"_parent\"><img src=\"https://colab.research.google.com/assets/colab-badge.svg\" alt=\"Open In Colab\"/></a>"
      ]
    },
    {
      "cell_type": "code",
      "metadata": {
        "id": "mGTKg7BXzkSV"
      },
      "source": [
        "def binary_search_recursive(array, element, start, end):\n",
        "    if start > end:\n",
        "        return -1\n",
        "\n",
        "    mid = (start + end) // 2\n",
        "    if element == array[mid]:\n",
        "        return mid\n",
        "\n",
        "    if element < array[mid]:\n",
        "        return binary_search_recursive(array, element, start, mid-1)\n",
        "    else:\n",
        "        return binary_search_recursive(array, element, mid+1, end)"
      ],
      "execution_count": 1,
      "outputs": []
    },
    {
      "cell_type": "code",
      "metadata": {
        "colab": {
          "base_uri": "https://localhost:8080/"
        },
        "id": "7Q8jeIVDzrCD",
        "outputId": "0adea7a6-7ba2-496f-f155-3979a2737dff"
      },
      "source": [
        "element = 7\n",
        "array = [1, 2, 5, 7, 13, 15, 16, 18, 24, 28, 29]\n",
        "\n",
        "print(\"Searching for {}\".format(element))\n",
        "print(\"Index of {}: {}\".format(element, binary_search_recursive(array, element, 0, len(array))))"
      ],
      "execution_count": 2,
      "outputs": [
        {
          "output_type": "stream",
          "text": [
            "Searching for 7\n",
            "Index of 7: 3\n"
          ],
          "name": "stdout"
        }
      ]
    }
  ]
}